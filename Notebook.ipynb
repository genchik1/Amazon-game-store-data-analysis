{
 "cells": [
  {
   "cell_type": "code",
   "execution_count": 1,
   "metadata": {},
   "outputs": [],
   "source": [
    "import json\n",
    "import requests\n",
    "\n",
    "import numpy as np\n",
    "import pandas as pd\n",
    "\n",
    "from datetime import datetime\n",
    "\n",
    "%matplotlib notebook\n",
    "%matplotlib inline\n",
    "import matplotlib.pyplot as plt"
   ]
  },
  {
   "cell_type": "code",
   "execution_count": 2,
   "metadata": {},
   "outputs": [
    {
     "data": {
      "text/html": [
       "<div>\n",
       "<style scoped>\n",
       "    .dataframe tbody tr th:only-of-type {\n",
       "        vertical-align: middle;\n",
       "    }\n",
       "\n",
       "    .dataframe tbody tr th {\n",
       "        vertical-align: top;\n",
       "    }\n",
       "\n",
       "    .dataframe thead th {\n",
       "        text-align: right;\n",
       "    }\n",
       "</style>\n",
       "<table border=\"1\" class=\"dataframe\">\n",
       "  <thead>\n",
       "    <tr style=\"text-align: right;\">\n",
       "      <th></th>\n",
       "      <th>Transaction Time</th>\n",
       "      <th>Vendor SKU</th>\n",
       "      <th>Title</th>\n",
       "      <th>Item Name</th>\n",
       "      <th>Item Type</th>\n",
       "      <th>Units</th>\n",
       "      <th>Marketplace Currency</th>\n",
       "      <th>Sales Price (Marketplace Currency)</th>\n",
       "    </tr>\n",
       "  </thead>\n",
       "  <tbody>\n",
       "    <tr>\n",
       "      <th>0</th>\n",
       "      <td>2020-01-31 23:57:21 PST</td>\n",
       "      <td>com.dominigames.mt9</td>\n",
       "      <td>Hidden Object - Mystery Tales: The Other Side</td>\n",
       "      <td>Hidden Object - Mystery Tales: The Other Side</td>\n",
       "      <td>Application</td>\n",
       "      <td>1</td>\n",
       "      <td>USD</td>\n",
       "      <td>0.0</td>\n",
       "    </tr>\n",
       "    <tr>\n",
       "      <th>1</th>\n",
       "      <td>2020-01-31 23:55:07 GMT</td>\n",
       "      <td>com.dominigames.christmas2</td>\n",
       "      <td>The Christmas Spirit: Mother Goose's Untold Tales</td>\n",
       "      <td>The Christmas Spirit: Mother Goose's Untold Tales</td>\n",
       "      <td>Application</td>\n",
       "      <td>1</td>\n",
       "      <td>GBP</td>\n",
       "      <td>0.0</td>\n",
       "    </tr>\n",
       "  </tbody>\n",
       "</table>\n",
       "</div>"
      ],
      "text/plain": [
       "          Transaction Time                  Vendor SKU  \\\n",
       "0  2020-01-31 23:57:21 PST         com.dominigames.mt9   \n",
       "1  2020-01-31 23:55:07 GMT  com.dominigames.christmas2   \n",
       "\n",
       "                                               Title  \\\n",
       "0      Hidden Object - Mystery Tales: The Other Side   \n",
       "1  The Christmas Spirit: Mother Goose's Untold Tales   \n",
       "\n",
       "                                           Item Name    Item Type  Units  \\\n",
       "0      Hidden Object - Mystery Tales: The Other Side  Application      1   \n",
       "1  The Christmas Spirit: Mother Goose's Untold Tales  Application      1   \n",
       "\n",
       "  Marketplace Currency  Sales Price (Marketplace Currency)  \n",
       "0                  USD                                 0.0  \n",
       "1                  GBP                                 0.0  "
      ]
     },
     "execution_count": 2,
     "metadata": {},
     "output_type": "execute_result"
    }
   ],
   "source": [
    "path = 'test.csv'\n",
    "data = pd.read_csv(path, index_col=None)\n",
    "data.head(2)"
   ]
  },
  {
   "cell_type": "code",
   "execution_count": 3,
   "metadata": {},
   "outputs": [],
   "source": [
    "data['tz'] = data[\"Transaction Time\"].str.split(' ').str[-1]\n",
    "data['datetime'] = data[\"Transaction Time\"].str.split(' ').str[:2].str.join(\" \")\n",
    "data['datetime'] = pd.to_datetime(data['datetime'])\n",
    "\n",
    "data['Vendor SKU'] = data['Vendor SKU'].str.replace('.unlock', '')\n",
    "\n",
    "data['Item Type'] = data['Item Type'].replace({'Application':0, 'In-App':1})\n",
    "\n",
    "data['date'] = data['datetime'].dt.date\n",
    "data['dow'] = data['datetime'].dt.day_name()"
   ]
  },
  {
   "cell_type": "code",
   "execution_count": 4,
   "metadata": {},
   "outputs": [],
   "source": [
    "repl = {1:'weekday', 2:'weekday', 3:'weekday', 4:'weekday', 5:'weekday', 6:'weekend', 7:'weekend'}\n",
    "data['week'] = data['datetime'].dt.dayofweek.replace(repl)"
   ]
  },
  {
   "cell_type": "code",
   "execution_count": 5,
   "metadata": {},
   "outputs": [
    {
     "data": {
      "text/html": [
       "<div>\n",
       "<style scoped>\n",
       "    .dataframe tbody tr th:only-of-type {\n",
       "        vertical-align: middle;\n",
       "    }\n",
       "\n",
       "    .dataframe tbody tr th {\n",
       "        vertical-align: top;\n",
       "    }\n",
       "\n",
       "    .dataframe thead th {\n",
       "        text-align: right;\n",
       "    }\n",
       "</style>\n",
       "<table border=\"1\" class=\"dataframe\">\n",
       "  <thead>\n",
       "    <tr style=\"text-align: right;\">\n",
       "      <th></th>\n",
       "      <th>Transaction Time</th>\n",
       "      <th>Vendor SKU</th>\n",
       "      <th>Title</th>\n",
       "      <th>Item Name</th>\n",
       "      <th>Item Type</th>\n",
       "      <th>Units</th>\n",
       "      <th>Marketplace Currency</th>\n",
       "      <th>Sales Price (Marketplace Currency)</th>\n",
       "      <th>tz</th>\n",
       "      <th>datetime</th>\n",
       "      <th>date</th>\n",
       "      <th>dow</th>\n",
       "      <th>week</th>\n",
       "    </tr>\n",
       "  </thead>\n",
       "  <tbody>\n",
       "    <tr>\n",
       "      <th>0</th>\n",
       "      <td>2020-01-31 23:57:21 PST</td>\n",
       "      <td>com.dominigames.mt9</td>\n",
       "      <td>Hidden Object - Mystery Tales: The Other Side</td>\n",
       "      <td>Hidden Object - Mystery Tales: The Other Side</td>\n",
       "      <td>0.0</td>\n",
       "      <td>1</td>\n",
       "      <td>USD</td>\n",
       "      <td>0.0</td>\n",
       "      <td>PST</td>\n",
       "      <td>2020-01-31 23:57:21</td>\n",
       "      <td>2020-01-31</td>\n",
       "      <td>Friday</td>\n",
       "      <td>weekday</td>\n",
       "    </tr>\n",
       "    <tr>\n",
       "      <th>1</th>\n",
       "      <td>2020-01-31 23:55:07 GMT</td>\n",
       "      <td>com.dominigames.christmas2</td>\n",
       "      <td>The Christmas Spirit: Mother Goose's Untold Tales</td>\n",
       "      <td>The Christmas Spirit: Mother Goose's Untold Tales</td>\n",
       "      <td>0.0</td>\n",
       "      <td>1</td>\n",
       "      <td>GBP</td>\n",
       "      <td>0.0</td>\n",
       "      <td>GMT</td>\n",
       "      <td>2020-01-31 23:55:07</td>\n",
       "      <td>2020-01-31</td>\n",
       "      <td>Friday</td>\n",
       "      <td>weekday</td>\n",
       "    </tr>\n",
       "  </tbody>\n",
       "</table>\n",
       "</div>"
      ],
      "text/plain": [
       "          Transaction Time                  Vendor SKU  \\\n",
       "0  2020-01-31 23:57:21 PST         com.dominigames.mt9   \n",
       "1  2020-01-31 23:55:07 GMT  com.dominigames.christmas2   \n",
       "\n",
       "                                               Title  \\\n",
       "0      Hidden Object - Mystery Tales: The Other Side   \n",
       "1  The Christmas Spirit: Mother Goose's Untold Tales   \n",
       "\n",
       "                                           Item Name  Item Type  Units  \\\n",
       "0      Hidden Object - Mystery Tales: The Other Side        0.0      1   \n",
       "1  The Christmas Spirit: Mother Goose's Untold Tales        0.0      1   \n",
       "\n",
       "  Marketplace Currency  Sales Price (Marketplace Currency)   tz  \\\n",
       "0                  USD                                 0.0  PST   \n",
       "1                  GBP                                 0.0  GMT   \n",
       "\n",
       "             datetime        date     dow     week  \n",
       "0 2020-01-31 23:57:21  2020-01-31  Friday  weekday  \n",
       "1 2020-01-31 23:55:07  2020-01-31  Friday  weekday  "
      ]
     },
     "execution_count": 5,
     "metadata": {},
     "output_type": "execute_result"
    }
   ],
   "source": [
    "data.head(2)"
   ]
  },
  {
   "cell_type": "code",
   "execution_count": 6,
   "metadata": {},
   "outputs": [
    {
     "name": "stdout",
     "output_type": "stream",
     "text": [
      "<class 'pandas.core.frame.DataFrame'>\n",
      "RangeIndex: 79045 entries, 0 to 79044\n",
      "Data columns (total 13 columns):\n",
      " #   Column                              Non-Null Count  Dtype         \n",
      "---  ------                              --------------  -----         \n",
      " 0   Transaction Time                    79045 non-null  object        \n",
      " 1   Vendor SKU                          79017 non-null  object        \n",
      " 2   Title                               79017 non-null  object        \n",
      " 3   Item Name                           79017 non-null  object        \n",
      " 4   Item Type                           79017 non-null  float64       \n",
      " 5   Units                               79045 non-null  int64         \n",
      " 6   Marketplace Currency                79045 non-null  object        \n",
      " 7   Sales Price (Marketplace Currency)  79045 non-null  float64       \n",
      " 8   tz                                  79045 non-null  object        \n",
      " 9   datetime                            79045 non-null  datetime64[ns]\n",
      " 10  date                                79045 non-null  object        \n",
      " 11  dow                                 79045 non-null  object        \n",
      " 12  week                                79045 non-null  object        \n",
      "dtypes: datetime64[ns](1), float64(2), int64(1), object(9)\n",
      "memory usage: 7.8+ MB\n"
     ]
    }
   ],
   "source": [
    "data.info()"
   ]
  },
  {
   "cell_type": "code",
   "execution_count": 7,
   "metadata": {},
   "outputs": [
    {
     "name": "stdout",
     "output_type": "stream",
     "text": [
      "<class 'pandas.core.frame.DataFrame'>\n",
      "Int64Index: 79017 entries, 0 to 79044\n",
      "Data columns (total 13 columns):\n",
      " #   Column                              Non-Null Count  Dtype         \n",
      "---  ------                              --------------  -----         \n",
      " 0   Transaction Time                    79017 non-null  object        \n",
      " 1   Vendor SKU                          79017 non-null  object        \n",
      " 2   Title                               79017 non-null  object        \n",
      " 3   Item Name                           79017 non-null  object        \n",
      " 4   Item Type                           79017 non-null  float64       \n",
      " 5   Units                               79017 non-null  int64         \n",
      " 6   Marketplace Currency                79017 non-null  object        \n",
      " 7   Sales Price (Marketplace Currency)  79017 non-null  float64       \n",
      " 8   tz                                  79017 non-null  object        \n",
      " 9   datetime                            79017 non-null  datetime64[ns]\n",
      " 10  date                                79017 non-null  object        \n",
      " 11  dow                                 79017 non-null  object        \n",
      " 12  week                                79017 non-null  object        \n",
      "dtypes: datetime64[ns](1), float64(2), int64(1), object(9)\n",
      "memory usage: 8.4+ MB\n"
     ]
    }
   ],
   "source": [
    "# избавимся от \"безымянных данных\"\n",
    "data = data.dropna()\n",
    "data.info()"
   ]
  },
  {
   "cell_type": "code",
   "execution_count": 8,
   "metadata": {},
   "outputs": [
    {
     "data": {
      "text/plain": [
       "<matplotlib.axes._subplots.AxesSubplot at 0x194b3880ca0>"
      ]
     },
     "execution_count": 8,
     "metadata": {},
     "output_type": "execute_result"
    },
    {
     "data": {
      "image/png": "[encoded data removed]",
      "text/plain": [
       "<Figure size 432x288 with 1 Axes>"
      ]
     },
     "metadata": {
      "needs_background": "light"
     },
     "output_type": "display_data"
    }
   ],
   "source": [
    "plt.figure()\n",
    "data.groupby(['date']).size().plot(color='r')"
   ]
  },
  {
   "cell_type": "markdown",
   "metadata": {},
   "source": [
    "Т.к. интересные данные начинаются только с 2020г, принято решение избавиться от днных за 2019г."
   ]
  },
  {
   "cell_type": "code",
   "execution_count": 9,
   "metadata": {},
   "outputs": [],
   "source": [
    "# type(data['date']), type(datetime.strptime('2020-01-01', \"%Y-%m-%d\"))\n",
    "data = data[data['datetime']>=datetime.strptime('2020', \"%Y\")]"
   ]
  },
  {
   "cell_type": "code",
   "execution_count": 10,
   "metadata": {},
   "outputs": [
    {
     "data": {
      "text/plain": [
       "datetime.date(2020, 1, 1)"
      ]
     },
     "execution_count": 10,
     "metadata": {},
     "output_type": "execute_result"
    }
   ],
   "source": [
    "data['date'].min()"
   ]
  },
  {
   "cell_type": "code",
   "execution_count": 11,
   "metadata": {},
   "outputs": [
    {
     "data": {
      "text/plain": [
       "<Response [200]>"
      ]
     },
     "execution_count": 11,
     "metadata": {},
     "output_type": "execute_result"
    }
   ],
   "source": [
    "KEY = ''\n",
    "res = requests.get(f'https://openexchangerates.org/api/latest.json?app_id={KEY}')\n",
    "res"
   ]
  },
  {
   "cell_type": "code",
   "execution_count": 12,
   "metadata": {},
   "outputs": [],
   "source": [
    "res = json.loads(res.text)\n",
    "rates = pd.DataFrame({'Marketplace Currency':list(res['rates'].keys()), 'rates':list(res['rates'].values())})\n",
    "data = data.merge(rates, on='Marketplace Currency')\n",
    "data['Sales Price USD'] = data['Sales Price (Marketplace Currency)'] / data['rates']"
   ]
  },
  {
   "cell_type": "markdown",
   "metadata": {},
   "source": [
    "## Основное задание"
   ]
  },
  {
   "cell_type": "code",
   "execution_count": 13,
   "metadata": {},
   "outputs": [],
   "source": [
    "min_date = datetime.fromisoformat('2020-01-15')\n",
    "max_date = datetime.fromisoformat('2020-02-15')\n",
    "\n",
    "df = data[(data['datetime']>=min_date) & (data['datetime']<=max_date)]"
   ]
  },
  {
   "cell_type": "code",
   "execution_count": 14,
   "metadata": {},
   "outputs": [
    {
     "data": {
      "text/html": [
       "<div>\n",
       "<style scoped>\n",
       "    .dataframe tbody tr th:only-of-type {\n",
       "        vertical-align: middle;\n",
       "    }\n",
       "\n",
       "    .dataframe tbody tr th {\n",
       "        vertical-align: top;\n",
       "    }\n",
       "\n",
       "    .dataframe thead th {\n",
       "        text-align: right;\n",
       "    }\n",
       "</style>\n",
       "<table border=\"1\" class=\"dataframe\">\n",
       "  <thead>\n",
       "    <tr style=\"text-align: right;\">\n",
       "      <th></th>\n",
       "      <th>Vendor SKU</th>\n",
       "      <th>Title</th>\n",
       "      <th>Count In-App</th>\n",
       "      <th>Count Application</th>\n",
       "      <th>Total income</th>\n",
       "    </tr>\n",
       "  </thead>\n",
       "  <tbody>\n",
       "    <tr>\n",
       "      <th>0</th>\n",
       "      <td>com.dominigames.cc7</td>\n",
       "      <td>Labyrinths Of The World: A Dangerous Game</td>\n",
       "      <td>78</td>\n",
       "      <td>513</td>\n",
       "      <td>284.929956</td>\n",
       "    </tr>\n",
       "    <tr>\n",
       "      <th>1</th>\n",
       "      <td>com.dominigames.cc8</td>\n",
       "      <td>Labyrinths Of The World: When Worlds Collide</td>\n",
       "      <td>559</td>\n",
       "      <td>1909</td>\n",
       "      <td>1526.844316</td>\n",
       "    </tr>\n",
       "    <tr>\n",
       "      <th>2</th>\n",
       "      <td>com.dominigames.ch3</td>\n",
       "      <td>Hidden Objects - The Christmas Spirit: Grimm T...</td>\n",
       "      <td>242</td>\n",
       "      <td>3907</td>\n",
       "      <td>757.074567</td>\n",
       "    </tr>\n",
       "    <tr>\n",
       "      <th>3</th>\n",
       "      <td>com.dominigames.christmas</td>\n",
       "      <td>The Christmas Spirit: Trouble in Oz</td>\n",
       "      <td>75</td>\n",
       "      <td>1186</td>\n",
       "      <td>251.005317</td>\n",
       "    </tr>\n",
       "    <tr>\n",
       "      <th>4</th>\n",
       "      <td>com.dominigames.christmas2</td>\n",
       "      <td>The Christmas Spirit: Mother Goose's Untold Tales</td>\n",
       "      <td>53</td>\n",
       "      <td>683</td>\n",
       "      <td>175.491741</td>\n",
       "    </tr>\n",
       "  </tbody>\n",
       "</table>\n",
       "</div>"
      ],
      "text/plain": [
       "                   Vendor SKU  \\\n",
       "0         com.dominigames.cc7   \n",
       "1         com.dominigames.cc8   \n",
       "2         com.dominigames.ch3   \n",
       "3   com.dominigames.christmas   \n",
       "4  com.dominigames.christmas2   \n",
       "\n",
       "                                               Title  Count In-App  \\\n",
       "0          Labyrinths Of The World: A Dangerous Game            78   \n",
       "1       Labyrinths Of The World: When Worlds Collide           559   \n",
       "2  Hidden Objects - The Christmas Spirit: Grimm T...           242   \n",
       "3                The Christmas Spirit: Trouble in Oz            75   \n",
       "4  The Christmas Spirit: Mother Goose's Untold Tales            53   \n",
       "\n",
       "   Count Application  Total income  \n",
       "0                513    284.929956  \n",
       "1               1909   1526.844316  \n",
       "2               3907    757.074567  \n",
       "3               1186    251.005317  \n",
       "4                683    175.491741  "
      ]
     },
     "execution_count": 14,
     "metadata": {},
     "output_type": "execute_result"
    }
   ],
   "source": [
    "df_item = df.groupby(['Vendor SKU', 'Item Type']).size().reset_index(name='Count item')\n",
    "total_income = df[df['Item Type']==1].groupby(['Vendor SKU'])['Sales Price USD'].sum().reset_index(name='Total income')\n",
    "\n",
    "# Переопределяем поле Title в список названий входящих в Vendor SKU\n",
    "names = df.groupby(['Vendor SKU'])['Title'].apply(list).reset_index()\n",
    "names['Title'] = names['Title'].apply(lambda x: np.unique(np.array(x))).str.join(', ')\n",
    "\n",
    "df = names.merge(df_item[df_item['Item Type']==1][['Vendor SKU', 'Count item']].rename(columns={'Count item':'Count In-App'}), on='Vendor SKU')\n",
    "df = df.merge(df_item[df_item['Item Type']==0][['Vendor SKU', 'Count item']].rename(columns={'Count item':'Count Application'}), on='Vendor SKU')\n",
    "df = df.merge(total_income, on='Vendor SKU')\n",
    "              \n",
    "del df_item, total_income, names\n",
    "\n",
    "df.head()"
   ]
  },
  {
   "cell_type": "code",
   "execution_count": 15,
   "metadata": {},
   "outputs": [],
   "source": [
    "df['Total income'] = df['Total income'].round(1)\n",
    "df.rename(columns={'Total income': 'Total income USD'}, inplace=True)\n",
    "\n",
    "df.to_excel('Task.xlsx', index=None)"
   ]
  },
  {
   "cell_type": "markdown",
   "metadata": {},
   "source": [
    "## Творческое задание"
   ]
  },
  {
   "cell_type": "markdown",
   "metadata": {},
   "source": [
    "#### График загрузок и покупок"
   ]
  },
  {
   "cell_type": "code",
   "execution_count": 16,
   "metadata": {},
   "outputs": [
    {
     "data": {
      "text/plain": [
       "Text(0, 0.5, 'Units')"
      ]
     },
     "execution_count": 16,
     "metadata": {},
     "output_type": "execute_result"
    },
    {
     "data": {
      "text/plain": [
       "<Figure size 432x288 with 0 Axes>"
      ]
     },
     "metadata": {},
     "output_type": "display_data"
    },
    {
     "data": {
      "image/png": "[encoded data removed]",
      "text/plain": [
       "<Figure size 720x504 with 1 Axes>"
      ]
     },
     "metadata": {
      "needs_background": "light"
     },
     "output_type": "display_data"
    }
   ],
   "source": [
    "plt.figure()\n",
    "\n",
    "df = data[data['Item Type']==0].groupby('date')['Vendor SKU'].size()\n",
    "df2 = data[data['Item Type']==1].groupby('date')['Vendor SKU'].size()\n",
    "\n",
    "df = pd.concat([df, df2], axis=1, )\n",
    "df.columns=['Application', 'In-App']\n",
    "\n",
    "df.plot(figsize=(10,7), grid=True)\n",
    "    \n",
    "plt.ylabel(\"Units\")"
   ]
  },
  {
   "cell_type": "markdown",
   "metadata": {},
   "source": [
    "Из графика видно, что кол-во загрузок в разы превышают кол-во покупок. Так же видим пик установок приходящийся на новогодние каникулы, а так же с середины марта (предположительно из-за пандемии коронавируса и домашней изоляции спрос вырос). Попробуем нормализовать данные"
   ]
  },
  {
   "cell_type": "code",
   "execution_count": 17,
   "metadata": {},
   "outputs": [
    {
     "data": {
      "text/plain": [
       "<matplotlib.axes._subplots.AxesSubplot at 0x194b81c0910>"
      ]
     },
     "execution_count": 17,
     "metadata": {},
     "output_type": "execute_result"
    },
    {
     "data": {
      "text/plain": [
       "<Figure size 432x288 with 0 Axes>"
      ]
     },
     "metadata": {},
     "output_type": "display_data"
    },
    {
     "data": {
      "image/png": "[encoded data removed]",
      "text/plain": [
       "<Figure size 720x504 with 1 Axes>"
      ]
     },
     "metadata": {
      "needs_background": "light"
     },
     "output_type": "display_data"
    }
   ],
   "source": [
    "plt.figure()\n",
    "\n",
    "df['Application'] = df['Application']/df['Application'].max()\n",
    "df['In-App'] = df['In-App']/df['In-App'].max()\n",
    "\n",
    "df.plot(figsize=(10,7), grid=True, style=['r-','b--'], linewidth=3.5)"
   ]
  },
  {
   "cell_type": "markdown",
   "metadata": {},
   "source": [
    "График нам показывает, что покупки игр могут быть совершены не обязательно в этот же день.\n",
    "\n",
    "Далее, можем посмотреть сколько и в какие дни недели совершались установки и покупки игр."
   ]
  },
  {
   "cell_type": "code",
   "execution_count": 18,
   "metadata": {},
   "outputs": [
    {
     "data": {
      "text/plain": [
       "<matplotlib.axes._subplots.AxesSubplot at 0x194b8079940>"
      ]
     },
     "execution_count": 18,
     "metadata": {},
     "output_type": "execute_result"
    },
    {
     "data": {
      "text/plain": [
       "<Figure size 432x288 with 0 Axes>"
      ]
     },
     "metadata": {},
     "output_type": "display_data"
    },
    {
     "data": {
      "image/png": "[encoded data removed]",
      "text/plain": [
       "<Figure size 432x288 with 1 Axes>"
      ]
     },
     "metadata": {
      "needs_background": "light"
     },
     "output_type": "display_data"
    }
   ],
   "source": [
    "plt.figure()\n",
    "df_per_dow = df.reset_index()\n",
    "df_per_dow['dow'] = pd.to_datetime(df_per_dow['date']).dt.dayofweek\n",
    "# day_name()\n",
    "df_per_dow = df_per_dow.groupby(['dow']).sum().sort_index()\n",
    "df_per_dow.plot.bar()"
   ]
  },
  {
   "cell_type": "markdown",
   "metadata": {},
   "source": [
    "По графику не видим отчетливой зависимости кол-ва покупок и установок от дней недели, но все же, уверенно чувствуют себя столбцы приходящиеся на субботу и воскресенье (5-ый и 6-ой). Далее взглянем на сами игры."
   ]
  },
  {
   "cell_type": "code",
   "execution_count": 19,
   "metadata": {},
   "outputs": [
    {
     "data": {
      "text/html": [
       "<div>\n",
       "<style scoped>\n",
       "    .dataframe tbody tr th:only-of-type {\n",
       "        vertical-align: middle;\n",
       "    }\n",
       "\n",
       "    .dataframe tbody tr th {\n",
       "        vertical-align: top;\n",
       "    }\n",
       "\n",
       "    .dataframe thead th {\n",
       "        text-align: right;\n",
       "    }\n",
       "</style>\n",
       "<table border=\"1\" class=\"dataframe\">\n",
       "  <thead>\n",
       "    <tr style=\"text-align: right;\">\n",
       "      <th></th>\n",
       "      <th>Transaction Time</th>\n",
       "      <th>Vendor SKU</th>\n",
       "      <th>Title</th>\n",
       "      <th>Item Name</th>\n",
       "      <th>Item Type</th>\n",
       "      <th>Units</th>\n",
       "      <th>Marketplace Currency</th>\n",
       "      <th>Sales Price (Marketplace Currency)</th>\n",
       "      <th>tz</th>\n",
       "      <th>datetime</th>\n",
       "      <th>date</th>\n",
       "      <th>dow</th>\n",
       "      <th>week</th>\n",
       "      <th>rates</th>\n",
       "      <th>Sales Price USD</th>\n",
       "    </tr>\n",
       "  </thead>\n",
       "  <tbody>\n",
       "    <tr>\n",
       "      <th>0</th>\n",
       "      <td>2020-01-31 23:57:21 PST</td>\n",
       "      <td>com.dominigames.mt9</td>\n",
       "      <td>Hidden Object - Mystery Tales: The Other Side</td>\n",
       "      <td>Hidden Object - Mystery Tales: The Other Side</td>\n",
       "      <td>0.0</td>\n",
       "      <td>1</td>\n",
       "      <td>USD</td>\n",
       "      <td>0.00</td>\n",
       "      <td>PST</td>\n",
       "      <td>2020-01-31 23:57:21</td>\n",
       "      <td>2020-01-31</td>\n",
       "      <td>Friday</td>\n",
       "      <td>weekday</td>\n",
       "      <td>1.0</td>\n",
       "      <td>0.00</td>\n",
       "    </tr>\n",
       "    <tr>\n",
       "      <th>1</th>\n",
       "      <td>2020-01-31 23:51:01 PST</td>\n",
       "      <td>com.dominigames.dr8</td>\n",
       "      <td>Dark Romance: Winter Lily Collector's Edition</td>\n",
       "      <td>Unlock</td>\n",
       "      <td>1.0</td>\n",
       "      <td>1</td>\n",
       "      <td>USD</td>\n",
       "      <td>2.99</td>\n",
       "      <td>PST</td>\n",
       "      <td>2020-01-31 23:51:01</td>\n",
       "      <td>2020-01-31</td>\n",
       "      <td>Friday</td>\n",
       "      <td>weekday</td>\n",
       "      <td>1.0</td>\n",
       "      <td>2.99</td>\n",
       "    </tr>\n",
       "  </tbody>\n",
       "</table>\n",
       "</div>"
      ],
      "text/plain": [
       "          Transaction Time           Vendor SKU  \\\n",
       "0  2020-01-31 23:57:21 PST  com.dominigames.mt9   \n",
       "1  2020-01-31 23:51:01 PST  com.dominigames.dr8   \n",
       "\n",
       "                                           Title  \\\n",
       "0  Hidden Object - Mystery Tales: The Other Side   \n",
       "1  Dark Romance: Winter Lily Collector's Edition   \n",
       "\n",
       "                                       Item Name  Item Type  Units  \\\n",
       "0  Hidden Object - Mystery Tales: The Other Side        0.0      1   \n",
       "1                                         Unlock        1.0      1   \n",
       "\n",
       "  Marketplace Currency  Sales Price (Marketplace Currency)   tz  \\\n",
       "0                  USD                                0.00  PST   \n",
       "1                  USD                                2.99  PST   \n",
       "\n",
       "             datetime        date     dow     week  rates  Sales Price USD  \n",
       "0 2020-01-31 23:57:21  2020-01-31  Friday  weekday    1.0             0.00  \n",
       "1 2020-01-31 23:51:01  2020-01-31  Friday  weekday    1.0             2.99  "
      ]
     },
     "execution_count": 19,
     "metadata": {},
     "output_type": "execute_result"
    }
   ],
   "source": [
    "data.head(2)"
   ]
  },
  {
   "cell_type": "code",
   "execution_count": 20,
   "metadata": {},
   "outputs": [
    {
     "data": {
      "text/plain": [
       "(47, 36, 78893)"
      ]
     },
     "execution_count": 20,
     "metadata": {},
     "output_type": "execute_result"
    }
   ],
   "source": [
    "data['Vendor SKU'].nunique(), data['Title'].nunique(), len(data)"
   ]
  },
  {
   "cell_type": "markdown",
   "metadata": {},
   "source": []
  },
  {
   "cell_type": "code",
   "execution_count": null,
   "metadata": {},
   "outputs": [],
   "source": []
  },
  {
   "cell_type": "code",
   "execution_count": null,
   "metadata": {},
   "outputs": [],
   "source": []
  }
 ],
 "metadata": {
  "kernelspec": {
   "display_name": "Python 3",
   "language": "python",
   "name": "python3"
  },
  "language_info": {
   "codemirror_mode": {
    "name": "ipython",
    "version": 3
   },
   "file_extension": ".py",
   "mimetype": "text/x-python",
   "name": "python",
   "nbconvert_exporter": "python",
   "pygments_lexer": "ipython3",
   "version": "3.8.3"
  }
 },
 "nbformat": 4,
 "nbformat_minor": 4
}
